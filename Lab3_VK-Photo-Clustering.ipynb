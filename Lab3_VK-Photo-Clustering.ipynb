{
 "cells": [
  {
   "cell_type": "markdown",
   "metadata": {},
   "source": [
    "---\n",
    "---\n",
    "# Лабораторная работа №3. Анализ социальных сетей. Кластеризация фотографий со стены Вконтакте"
   ]
  },
  {
   "cell_type": "markdown",
   "metadata": {
    "ExecuteTime": {
     "end_time": "2019-10-23T09:40:01.145387Z",
     "start_time": "2019-10-23T09:40:01.141360Z"
    }
   },
   "source": [
    "---\n",
    "---\n",
    "# Массовое скачивание фотографий из групп ВКонтакте с использованием API"
   ]
  },
  {
   "cell_type": "code",
   "execution_count": 1,
   "metadata": {
    "ExecuteTime": {
     "end_time": "2019-10-25T08:46:49.272602Z",
     "start_time": "2019-10-25T08:46:49.168337Z"
    }
   },
   "outputs": [],
   "source": [
    "import os\n",
    "from re import split\n",
    "from time import sleep\n",
    "from datetime import datetime\n",
    "import vk\n",
    "import requests"
   ]
  },
  {
   "cell_type": "markdown",
   "metadata": {},
   "source": [
    "## Настройки программы\n",
    "- public_link - полная ссылка на группу или паблик\n",
    "- album_id - id альбома ('wall' - стена сообщества)\n",
    "- rev - порядок загрузки (0 - хронологический, 1 - антихронологический)\n",
    "- start_offset - с какой по счету фотографии начать загрузку\n",
    "- phs_num - сколько фотографий нужно загрузить\n",
    "- download_dir_name - путь к директории загрузки (если пустая строка, то файлы сохранятся в папке с кратким названием сообщества)"
   ]
  },
  {
   "cell_type": "code",
   "execution_count": 27,
   "metadata": {
    "ExecuteTime": {
     "end_time": "2019-10-25T08:46:49.280307Z",
     "start_time": "2019-10-25T08:46:49.272602Z"
    }
   },
   "outputs": [],
   "source": [
    "public_link = 'https://vk.com/ardezart'\n",
    "album_id = 'wall'\n",
    "rev = 0\n",
    "start_offset = 0\n",
    "phs_num = 50\n",
    "download_dir_name = r'D:/IMG/'\n",
    "token = ''"
   ]
  },
  {
   "cell_type": "markdown",
   "metadata": {},
   "source": [
    "### Авторизируемся в ВК"
   ]
  },
  {
   "cell_type": "code",
   "execution_count": 19,
   "metadata": {
    "ExecuteTime": {
     "end_time": "2019-10-25T08:46:49.288306Z",
     "start_time": "2019-10-25T08:46:49.280307Z"
    }
   },
   "outputs": [],
   "source": [
    "session = vk.Session(access_token=token)\n",
    "vk_api = vk.API(session)"
   ]
  },
  {
   "cell_type": "markdown",
   "metadata": {},
   "source": [
    "### Получаем id сообщества"
   ]
  },
  {
   "cell_type": "code",
   "execution_count": 28,
   "metadata": {
    "ExecuteTime": {
     "end_time": "2019-10-25T08:46:49.538389Z",
     "start_time": "2019-10-25T08:46:49.288306Z"
    }
   },
   "outputs": [
    {
     "data": {
      "text/plain": [
       "[{'id': 40131273,\n",
       "  'name': 'Архитектура Ardezart',\n",
       "  'screen_name': 'ardezart',\n",
       "  'is_closed': 0,\n",
       "  'type': 'page',\n",
       "  'is_admin': 0,\n",
       "  'is_member': 0,\n",
       "  'is_advertiser': 0,\n",
       "  'photo_50': 'https://sun7-14.userapi.com/s/v1/ig2/-xoBaK7Tr3S5vbSIXOXGKkpdfizgqmb0ICJWF3ssTvZegnII6NHcY9TLMDi0X-SkUdDRwCQGrIrG-d9WMN6GZBgA.jpg?size=50x50&quality=96&crop=30,61,956,956&ava=1',\n",
       "  'photo_100': 'https://sun7-14.userapi.com/s/v1/ig2/2_cRC8IofWEFNKQy9S9e3It6_AqUyh3V0epI4tE_ZAj69lTCfTVyuqxsHXG45MthuiQ0On2FJ1oekVcWYYy2gNPm.jpg?size=100x100&quality=96&crop=30,61,956,956&ava=1',\n",
       "  'photo_200': 'https://sun7-14.userapi.com/s/v1/ig2/ztCuYkX9OnX933vBzTXUtowyNi1VORYvGiYDwivLM64_r6TyOgQ700xPvOLT7CdSvHCJl7cJbmv4NsorSV60TAzJ.jpg?size=200x200&quality=96&crop=30,61,956,956&ava=1'}]"
      ]
     },
     "execution_count": 28,
     "metadata": {},
     "output_type": "execute_result"
    }
   ],
   "source": [
    "public_name = split(r'/', public_link)[-1]\n",
    "if download_dir_name == '':\n",
    "    download_dir_name = public_name\n",
    "public_data = vk_api.groups.getById(group_id=public_name, v=5.102)\n",
    "public_id = public_data[0]['id']\n",
    "public_data"
   ]
  },
  {
   "cell_type": "markdown",
   "metadata": {},
   "source": [
    "### При помощи API получаем список URL изображений и записываем в файл\n",
    "API не разрешает получать ссылки более чем на тысячу фотографий за один раз, поэтому программа сделает несколько запросов."
   ]
  },
  {
   "cell_type": "code",
   "execution_count": 29,
   "metadata": {
    "ExecuteTime": {
     "end_time": "2019-10-25T08:46:49.658411Z",
     "start_time": "2019-10-25T08:46:49.538389Z"
    }
   },
   "outputs": [],
   "source": [
    "photo_links = []\n",
    "offset = start_offset\n",
    "now = datetime.now().strftime('%d-%m-%Y-%H-%M')\n",
    "\n",
    "remain_num = phs_num\n",
    "for i in range(int(phs_num / 1000) + 1):\n",
    "    if remain_num >= 1000:\n",
    "        download_num = 1000\n",
    "    else:\n",
    "        download_num = remain_num\n",
    "    remain_num -= download_num\n",
    "    wall_phs = vk_api.photos.get(owner_id=-public_id,\n",
    "                                 album_id=album_id,\n",
    "                                 v=5.102,\n",
    "                                 count=download_num,\n",
    "                                 offset=offset,\n",
    "                                 rev=rev)\n",
    "    for photo in wall_phs['items']:\n",
    "        photo_links.append(photo['sizes'][-1]['url'])\n",
    "    offset += download_num\n",
    "    \n",
    "with open(f'dump_{public_id}_{album_id}_{start_offset}_{phs_num}_{now}.txt', 'w') as file:\n",
    "    file.writelines('%s\\n' % link for link in photo_links)"
   ]
  },
  {
   "cell_type": "markdown",
   "metadata": {},
   "source": [
    "### Загружаем фотографии\n",
    "За счёт хранения ссылок в файле можно будет возобновлять загрузку после прерывания - ранее скачанные файлы в данную директорию загружаться не будут. Для перезапуска процесса скачивания после повторного открытия Jupyter-ноутбука нужно **указать вручную путь к файлу с URL**."
   ]
  },
  {
   "cell_type": "code",
   "execution_count": 30,
   "metadata": {
    "ExecuteTime": {
     "end_time": "2019-10-25T08:46:49.675876Z",
     "start_time": "2019-10-25T08:46:49.658411Z"
    }
   },
   "outputs": [],
   "source": [
    "url_filename = f'dump_{public_id}_{album_id}_{start_offset}_{phs_num}_{now}.txt'\n",
    "with open(url_filename, 'r') as file:\n",
    "    photo_links = file.read().splitlines()\n",
    "\n",
    "if not os.path.exists(download_dir_name):\n",
    "    os.makedirs(download_dir_name)\n",
    "\n",
    "ld = os.listdir(download_dir_name)\n",
    "counter = 0\n",
    "for link in photo_links:\n",
    "    counter += 1\n",
    "    name = str(counter) + '.jpg'\n",
    "    ce = True\n",
    "    filename = split('/', link)[-1]\n",
    "    if filename not in ld:\n",
    "        while ce:\n",
    "            try:\n",
    "                img_data = requests.get(link).content\n",
    "                ce = False\n",
    "            except requests.exceptions.ConnectionError:\n",
    "                sleep(5)\n",
    "        with open(os.path.join(download_dir_name, name), 'wb') as handler:\n",
    "            handler.write(img_data)"
   ]
  },
  {
   "cell_type": "markdown",
   "metadata": {},
   "source": [
    "### Проверим результат"
   ]
  },
  {
   "cell_type": "code",
   "execution_count": 31,
   "metadata": {
    "ExecuteTime": {
     "end_time": "2019-10-25T08:46:49.696080Z",
     "start_time": "2019-10-25T08:46:49.679031Z"
    }
   },
   "outputs": [
    {
     "name": "stdout",
     "output_type": "stream",
     "text": [
      "В директории \"D:/IMG/\" 50 файлов\n"
     ]
    }
   ],
   "source": [
    "print(f'В директории \"{download_dir_name}\" {len(os.listdir(download_dir_name))} файлов')"
   ]
  },
  {
   "cell_type": "markdown",
   "metadata": {},
   "source": [
    "---\n",
    "---\n",
    "## Кластеризация цветов на изображении"
   ]
  },
  {
   "cell_type": "code",
   "execution_count": 42,
   "metadata": {},
   "outputs": [],
   "source": [
    "import matplotlib.pyplot as plt\n",
    "from mpl_toolkits.mplot3d import Axes3D\n",
    "import cv2\n",
    "import numpy as np\n",
    "\n",
    "from sklearn.cluster import KMeans"
   ]
  },
  {
   "cell_type": "code",
   "execution_count": 38,
   "metadata": {},
   "outputs": [
    {
     "data": {
      "image/png": "[encoded data removed]",
      "text/plain": [
       "<Figure size 432x288 with 1 Axes>"
      ]
     },
     "metadata": {
      "needs_background": "light"
     },
     "output_type": "display_data"
    }
   ],
   "source": [
    "#read image\n",
    "img = cv2.imread('D:/IMG/1.jpg')\n",
    "#convert from BGR to RGB\n",
    "img = cv2.cvtColor(img, cv2.COLOR_BGR2RGB)\n",
    "#get rgb values from image to 1D array\n",
    "r, g, b = cv2.split(img)\n",
    "r = r.flatten()\n",
    "g = g.flatten()\n",
    "b = b.flatten()\n",
    "#plotting\n",
    "fig = plt.figure()\n",
    "ax = Axes3D(fig)\n",
    "ax.scatter(r, g, b)\n",
    "plt.show()"
   ]
  },
  {
   "cell_type": "code",
   "execution_count": 39,
   "metadata": {},
   "outputs": [],
   "source": [
    "class DominantColors:\n",
    "\n",
    "  CLUSTERS = None\n",
    "  IMAGE = None\n",
    "  COLORS = None\n",
    "  LABELS = None\n",
    "\n",
    "  def __init__(self, image, clusters=3):\n",
    "    self.CLUSTERS = clusters\n",
    "    self.IMAGE = image\n",
    "\n",
    "  def dominantColors(self):\n",
    "    #read image\n",
    "    img = cv2.imread(self.IMAGE)\n",
    "    #convert to rgb from bgr\n",
    "    img = cv2.cvtColor(img, cv2.COLOR_BGR2RGB)\n",
    "    #reshaping to a list of pixels\n",
    "    img = img.reshape((img.shape[0] *\n",
    "    img.shape[1], 3))\n",
    "    #save image after operations\n",
    "    self.IMAGE = img\n",
    "    #using k-means to cluster pixels\n",
    "    kmeans = KMeans(n_clusters = self.CLUSTERS)\n",
    "    kmeans.fit(img)\n",
    "    #the cluster centers are our dominant colors.\n",
    "    self.COLORS = kmeans.cluster_centers_\n",
    "    #save labels\n",
    "    self.LABELS = kmeans.labels_\n",
    "    return self.COLORS.astype(int)\n",
    "\n",
    "  def plotHistogram(self):\n",
    "      #labels form 0 to no. of clusters\n",
    "      numLabels = np.arange(0, self.CLUSTERS+1)\n",
    "      #create frequency count tables\n",
    "      (hist, _) = np.histogram(self.LABELS, bins\n",
    "      = numLabels)\n",
    "      hist = hist.astype(\"float\")\n",
    "      hist /= hist.sum()\n",
    "      #appending frequencies to cluster centers\n",
    "      colors = self.COLORS\n",
    "      #descending order sorting as per frequency\n",
    "      colors = colors[(-hist).argsort()]\n",
    "      hist = hist[(-hist).argsort()]\n",
    "      #creating empty chart\n",
    "      chart = np.zeros((50, 500, 3), np.uint8)\n",
    "      start = 0\n",
    "      #creating color rectangles\n",
    "      for i in range(self.CLUSTERS):\n",
    "        end = start + hist[i] * 500\n",
    "        #getting rgb values\n",
    "        r = colors[i][0]\n",
    "        g = colors[i][1]\n",
    "        b = colors[i][2]\n",
    "        #using cv2.rectangle to plot colors\n",
    "        cv2.rectangle(chart, (int(start), 0),\n",
    "        (int(end), 50), (r,g,b), -1)\n",
    "        start = end\n",
    "      #display chart\n",
    "      plt.figure()\n",
    "      plt.axis(\"off\")\n",
    "      plt.imshow(chart)\n",
    "      plt.show()"
   ]
  },
  {
   "cell_type": "code",
   "execution_count": 43,
   "metadata": {},
   "outputs": [
    {
     "name": "stdout",
     "output_type": "stream",
     "text": [
      "[[ 92 120 146]\n",
      " [120  79  75]\n",
      " [159 143 137]\n",
      " [195 202 202]\n",
      " [ 49  33  35]]\n"
     ]
    }
   ],
   "source": [
    "img = 'D:/IMG/1.jpg'\n",
    "clusters = 5\n",
    "dc = DominantColors(img, clusters)\n",
    "colors = dc.dominantColors()\n",
    "print(colors)"
   ]
  },
  {
   "cell_type": "code",
   "execution_count": 44,
   "metadata": {},
   "outputs": [
    {
     "data": {
      "image/png": "[encoded data removed]",
      "text/plain": [
       "<Figure size 432x288 with 1 Axes>"
      ]
     },
     "metadata": {
      "needs_background": "light"
     },
     "output_type": "display_data"
    }
   ],
   "source": [
    "dc.plotHistogram()"
   ]
  },
  {
   "cell_type": "markdown",
   "metadata": {},
   "source": [
    "---\n",
    "---\n",
    "## Кластеризация изображений на основе доминирующих цветов"
   ]
  },
  {
   "cell_type": "code",
   "execution_count": 45,
   "metadata": {},
   "outputs": [
    {
     "name": "stdout",
     "output_type": "stream",
     "text": [
      "[[164 163 164]\n",
      " [ 92  65  65]]\n",
      "[[ 67  63  63]\n",
      " [202 197 195]]\n",
      "[[ 75  78  71]\n",
      " [150 165 179]]\n",
      "[[ 77  80  81]\n",
      " [183 179 166]]\n",
      "[[164 161 160]\n",
      " [ 67  89 143]]\n",
      "[[ 85  60  48]\n",
      " [159 147 132]]\n",
      "[[156 163 173]\n",
      " [ 79  77  79]]\n",
      "[[ 94 144 192]\n",
      " [ 16  28  60]]\n",
      "[[ 79  97 125]\n",
      " [193 184 167]]\n",
      "[[ 56  63  67]\n",
      " [143 148 157]]\n",
      "[[ 81  86  95]\n",
      " [146 155 178]]\n",
      "[[203 201 197]\n",
      " [ 89  62  47]]\n",
      "[[199 199 195]\n",
      " [ 56  56  48]]\n",
      "[[175 176 175]\n",
      " [ 57  59  58]]\n",
      "[[ 71  66  60]\n",
      " [190 190 184]]\n",
      "[[248 248 247]\n",
      " [122 122 117]]\n",
      "[[251 251 251]\n",
      " [100 100  99]]\n",
      "[[242 242 244]\n",
      " [ 58  61  58]]\n",
      "[[192 199 208]\n",
      " [ 65  62  57]]\n",
      "[[199 205 214]\n",
      " [ 55  55  50]]\n",
      "[[179 189 200]\n",
      " [ 56  56  55]]\n",
      "[[ 64  62  63]\n",
      " [169 172 190]]\n",
      "[[ 59  73  81]\n",
      " [207 216 219]]\n",
      "[[ 48  48  48]\n",
      " [199 200 206]]\n",
      "[[247 247 247]\n",
      " [133 135 135]]\n",
      "[[147 149 149]\n",
      " [248 248 248]]\n",
      "[[254 254 254]\n",
      " [ 61  60  60]]\n",
      "[[254 254 254]\n",
      " [ 60  59  60]]\n",
      "[[ 95  76  59]\n",
      " [201 206 215]]\n",
      "[[124  82  64]\n",
      " [151 166 206]]\n",
      "[[ 75  71  63]\n",
      " [192 194 204]]\n",
      "[[110  76  53]\n",
      " [201 190 177]]\n",
      "[[ 94  70  51]\n",
      " [206 193 170]]\n",
      "[[ 38  45  52]\n",
      " [216 221 225]]\n",
      "[[ 87  84  52]\n",
      " [200 208 212]]\n",
      "[[235 222 124]\n",
      " [244 244 242]]\n",
      "[[247 229 103]\n",
      " [254 253 250]]\n",
      "[[ 63  72  55]\n",
      " [ 77 134 193]]\n",
      "[[145 131 121]\n",
      " [ 83  69  57]]\n",
      "[[ 74  80  73]\n",
      " [152 173 202]]\n",
      "[[ 65  55  51]\n",
      " [161 162 166]]\n",
      "[[140 140 140]\n",
      " [252 252 252]]\n",
      "[[250 250 250]\n",
      " [160 160 160]]\n",
      "[[179 179 179]\n",
      " [253 253 253]]\n",
      "[[ 46  59  61]\n",
      " [187 174 153]]\n",
      "[[254 254 254]\n",
      " [182 182 182]]\n",
      "[[ 40  42  47]\n",
      " [230 225 225]]\n",
      "[[ 55  62  63]\n",
      " [188 179 179]]\n",
      "[[210 206 203]\n",
      " [ 65  66  66]]\n",
      "[[192 200 199]\n",
      " [ 65  70  73]]\n"
     ]
    }
   ],
   "source": [
    "directory = 'D:/IMG'\n",
    "filenames = []\n",
    "data = []\n",
    "for num, filename in enumerate(os.listdir(directory)):\n",
    "  data_iter = []\n",
    "  filenames.append(filename)\n",
    "  img = str(directory) + '/' + filename\n",
    "  #print (img)\n",
    "  clusters = 2\n",
    "  dc = DominantColors(img, clusters)\n",
    "  colors = dc.dominantColors()\n",
    "  for i in colors:\n",
    "    for j in i:\n",
    "      data_iter.append(j)\n",
    "    data.append(data_iter)\n",
    "  print(colors)"
   ]
  },
  {
   "cell_type": "code",
   "execution_count": 46,
   "metadata": {},
   "outputs": [],
   "source": [
    "np_data = np.asarray(data, dtype=np.float32)"
   ]
  },
  {
   "cell_type": "code",
   "execution_count": 47,
   "metadata": {},
   "outputs": [
    {
     "name": "stdout",
     "output_type": "stream",
     "text": [
      "[[ 1.17801811e+02 -6.54682007e+01  1.22529850e+01]\n",
      " [ 1.17802216e+02 -6.54681854e+01  1.22528610e+01]\n",
      " [-1.52269470e+02 -1.39463034e+01 -3.67008615e+00]\n",
      " [-1.52269501e+02 -1.39462481e+01 -3.67010951e+00]\n",
      " [-1.01794159e+02 -4.66216240e+01 -3.03364962e-01]\n",
      " [-1.01794167e+02 -4.66215935e+01 -3.03377807e-01]\n",
      " [-1.07595383e+02 -2.63531322e+01 -4.25933313e+00]\n",
      " [-1.07595383e+02 -2.63531322e+01 -4.25933313e+00]\n",
      " [ 8.54094086e+01 -3.64872131e+01 -2.31824875e+00]\n",
      " [ 8.54094086e+01 -3.64872131e+01 -2.31824875e+00]\n",
      " [-9.48549805e+01 -7.82593307e+01  3.22065315e+01]\n",
      " [-9.48549805e+01 -7.82593307e+01  3.22065315e+01]\n",
      " [ 1.13556999e+02 -6.16877480e+01 -3.34249187e+00]\n",
      " [ 1.13556999e+02 -6.16877480e+01 -3.34249187e+00]\n",
      " [ 1.36434677e+02 -1.50486969e+02 -5.03868370e+01]\n",
      " [ 1.36434677e+02 -1.50486969e+02 -5.03868370e+01]\n",
      " [-8.46199722e+01 -1.23594977e-01 -3.63789368e+01]\n",
      " [-8.46199722e+01 -1.23594977e-01 -3.63789368e+01]\n",
      " [-1.00929848e+02 -8.18929672e+01 -4.26657534e+00]\n",
      " [-1.00929848e+02 -8.18929672e+01 -4.26657534e+00]\n",
      " [-7.90198135e+01 -4.12276344e+01 -1.43339853e+01]\n",
      " [-7.90198135e+01 -4.12276344e+01 -1.43339853e+01]\n",
      " [ 1.75249084e+02 -3.41165314e+01  1.57410402e+01]\n",
      " [ 1.75249084e+02 -3.41165314e+01  1.57410402e+01]\n",
      " [ 1.85556641e+02 -5.45447769e+01  1.39898319e+01]\n",
      " [ 1.85556641e+02 -5.45447769e+01  1.39898319e+01]\n",
      " [ 1.50804962e+02 -7.39125977e+01  1.17410231e+01]\n",
      " [ 1.50804962e+02 -7.39125977e+01  1.17410231e+01]\n",
      " [-1.39539642e+02 -2.47347202e+01  3.49312925e+00]\n",
      " [-1.39539642e+02 -2.47347202e+01  3.49312925e+00]\n",
      " [ 1.77046814e+02  8.79271469e+01 -1.00278559e+01]\n",
      " [ 1.77046814e+02  8.79271469e+01 -1.00278559e+01]\n",
      " [ 2.04497116e+02  6.44225922e+01 -6.92090845e+00]\n",
      " [ 2.04497116e+02  6.44225922e+01 -6.92090845e+00]\n",
      " [ 2.38870667e+02  1.87764072e+00  1.80019748e+00]\n",
      " [ 2.38870667e+02  1.87764072e+00  1.80019748e+00]\n",
      " [ 1.79776947e+02 -4.39468117e+01 -2.10802722e+00]\n",
      " [ 1.79776947e+02 -4.39468117e+01 -2.10802722e+00]\n",
      " [ 1.97030228e+02 -4.73450546e+01 -7.71390378e-01]\n",
      " [ 1.97030228e+02 -4.73450546e+01 -7.71390378e-01]\n",
      " [ 1.72471909e+02 -6.34530830e+01 -3.66360664e+00]\n",
      " [ 1.72471909e+02 -6.34530830e+01 -3.66360664e+00]\n",
      " [-1.30816177e+02 -4.38722839e+01 -3.86522913e+00]\n",
      " [-1.30816177e+02 -4.38722839e+01 -3.86522913e+00]\n",
      " [-1.60867554e+02  1.15722418e+01 -2.71313934e+01]\n",
      " [-1.60867554e+02  1.15722418e+01 -2.71313934e+01]\n",
      " [-1.78025055e+02 -2.79635334e+01 -6.52556896e+00]\n",
      " [-1.78025055e+02 -2.79635334e+01 -6.52556896e+00]\n",
      " [ 1.60505402e+02  1.05147079e+02 -1.47049112e+01]\n",
      " [ 1.60505402e+02  1.05147079e+02 -1.47049112e+01]\n",
      " [-9.68011856e+01  1.43874985e+02 -2.97203751e+01]\n",
      " [-9.68011856e+01  1.43874985e+02 -2.97203751e+01]\n",
      " [ 2.52340897e+02  1.64173145e+01  1.71036649e+00]\n",
      " [ 2.52340897e+02  1.64173145e+01  1.71036649e+00]\n",
      " [ 2.53074615e+02  1.55171690e+01  1.74644160e+00]\n",
      " [ 2.53074615e+02  1.55171690e+01  1.74644160e+00]\n",
      " [-1.47345657e+02  1.44824400e+01  1.21565046e+01]\n",
      " [-1.47345657e+02  1.44824400e+01  1.21565046e+01]\n",
      " [-9.38389359e+01 -1.30445776e+01  2.80091572e+01]\n",
      " [-9.38389359e+01 -1.30445776e+01  2.80091572e+01]\n",
      " [-1.44120316e+02 -9.36094284e+00 -1.58147871e-01]\n",
      " [-1.44120316e+02 -9.36094284e+00 -1.58147871e-01]\n",
      " [-1.23415390e+02 -2.82436800e+00  3.37863426e+01]\n",
      " [-1.23415390e+02 -2.82436800e+00  3.37863426e+01]\n",
      " [-1.33927277e+02 -1.21523762e+01  2.70251484e+01]\n",
      " [-1.33927277e+02 -1.21523762e+01  2.70251484e+01]\n",
      " [-2.02868408e+02 -7.86859560e+00 -2.02026539e+01]\n",
      " [-2.02868408e+02 -7.86859560e+00 -2.02026539e+01]\n",
      " [-1.49702087e+02  1.15996742e+01  1.44812822e+01]\n",
      " [-1.49702087e+02  1.15996742e+01  1.44812822e+01]\n",
      " [-3.44718781e+01  2.00564041e+02  4.88465538e+01]\n",
      " [-3.44718781e+01  2.00564041e+02  4.88465538e+01]\n",
      " [-4.62162399e+01  2.15222244e+02  7.11740494e+01]\n",
      " [-4.62162399e+01  2.15222244e+02  7.11740494e+01]\n",
      " [-8.43182297e+01 -9.99121170e+01  2.00846696e+00]\n",
      " [-8.43182297e+01 -9.99121170e+01  2.00846696e+00]\n",
      " [ 8.05764771e+01 -1.03537933e+02  3.31453056e+01]\n",
      " [ 8.05764771e+01 -1.03537933e+02  3.31453056e+01]\n",
      " [-1.12880600e+02 -3.19709473e+01 -7.15604353e+00]\n",
      " [-1.12880600e+02 -3.19709473e+01 -7.15604353e+00]\n",
      " [-1.23293404e+02 -6.71408920e+01  1.05051184e+01]\n",
      " [-1.23293404e+02 -6.71408920e+01  1.05051184e+01]\n",
      " [-1.12336990e+02  1.40002029e+02 -2.84170055e+01]\n",
      " [-1.12336990e+02  1.40002029e+02 -2.84170055e+01]\n",
      " [ 1.35866577e+02  1.42010376e+02 -2.07255630e+01]\n",
      " [ 1.35866577e+02  1.42010376e+02 -2.07255630e+01]\n",
      " [-6.18360176e+01  1.84581665e+02 -3.33848801e+01]\n",
      " [-6.18360176e+01  1.84581665e+02 -3.33848801e+01]\n",
      " [-1.33734787e+02 -5.95260201e+01 -5.14250135e+00]\n",
      " [-1.33734787e+02 -5.95260201e+01 -5.14250135e+00]\n",
      " [ 1.16621269e+02  1.75156097e+02 -2.62471752e+01]\n",
      " [ 1.16621269e+02  1.75156097e+02 -2.62471752e+01]\n",
      " [-2.12233902e+02 -1.30920875e+00 -1.52529106e+01]\n",
      " [-2.12233902e+02 -1.30920875e+00 -1.52529106e+01]\n",
      " [-1.39864517e+02 -4.05713692e+01 -6.66404057e+00]\n",
      " [-1.39864517e+02 -4.05713692e+01 -6.66404057e+00]\n",
      " [ 1.83117218e+02 -2.89040966e+01  1.07325993e+01]\n",
      " [ 1.83117218e+02 -2.89040966e+01  1.07325993e+01]\n",
      " [ 1.66927444e+02 -3.58072357e+01  1.49790931e+00]\n",
      " [ 1.66927444e+02 -3.58072357e+01  1.49790931e+00]]\n",
      "['1.jpg', '10.jpg', '11.jpg', '12.jpg', '13.jpg', '14.jpg', '15.jpg', '16.jpg', '17.jpg', '18.jpg', '19.jpg', '2.jpg', '20.jpg', '21.jpg', '22.jpg', '23.jpg', '24.jpg', '25.jpg', '26.jpg', '27.jpg', '28.jpg', '29.jpg', '3.jpg', '30.jpg', '31.jpg', '32.jpg', '33.jpg', '34.jpg', '35.jpg', '36.jpg', '37.jpg', '38.jpg', '39.jpg', '4.jpg', '40.jpg', '41.jpg', '42.jpg', '43.jpg', '44.jpg', '45.jpg', '46.jpg', '47.jpg', '48.jpg', '49.jpg', '5.jpg', '50.jpg', '6.jpg', '7.jpg', '8.jpg', '9.jpg']\n"
     ]
    }
   ],
   "source": [
    "from sklearn.decomposition import PCA\n",
    "\n",
    "pca = PCA(n_components = 3)\n",
    "XPCAreduced = pca.fit_transform(np_data)\n",
    "print (XPCAreduced)\n",
    "print(filenames)\n",
    "xs, ys, zs = np_data[:, 0], np_data[:, 1], np_data[:,2]"
   ]
  },
  {
   "cell_type": "code",
   "execution_count": 48,
   "metadata": {},
   "outputs": [
    {
     "data": {
      "image/png": "[encoded data removed]",
      "text/plain": [
       "<Figure size 432x288 with 1 Axes>"
      ]
     },
     "metadata": {
      "needs_background": "light"
     },
     "output_type": "display_data"
    }
   ],
   "source": [
    "from mpl_toolkits.mplot3d import Axes3D\n",
    "\n",
    "fig = plt.figure()\n",
    "ax = fig.add_subplot(111, projection='3d')\n",
    "ax.scatter(xs, ys, zs)\n",
    "ax.set_xlabel('X')\n",
    "ax.set_ylabel('Y')\n",
    "ax.set_zlabel('Z')\n",
    "plt.show()"
   ]
  },
  {
   "cell_type": "code",
   "execution_count": null,
   "metadata": {},
   "outputs": [],
   "source": []
  },
  {
   "cell_type": "code",
   "execution_count": null,
   "metadata": {},
   "outputs": [],
   "source": []
  }
 ],
 "metadata": {
  "kernelspec": {
   "display_name": "Python 3",
   "language": "python",
   "name": "python3"
  },
  "language_info": {
   "codemirror_mode": {
    "name": "ipython",
    "version": 3
   },
   "file_extension": ".py",
   "mimetype": "text/x-python",
   "name": "python",
   "nbconvert_exporter": "python",
   "pygments_lexer": "ipython3",
   "version": "3.8.5"
  },
  "varInspector": {
   "cols": {
    "lenName": 16,
    "lenType": 16,
    "lenVar": 40
   },
   "kernels_config": {
    "python": {
     "delete_cmd_postfix": "",
     "delete_cmd_prefix": "del ",
     "library": "var_list.py",
     "varRefreshCmd": "print(var_dic_list())"
    },
    "r": {
     "delete_cmd_postfix": ") ",
     "delete_cmd_prefix": "rm(",
     "library": "var_list.r",
     "varRefreshCmd": "cat(var_dic_list()) "
    }
   },
   "types_to_exclude": [
    "module",
    "function",
    "builtin_function_or_method",
    "instance",
    "_Feature"
   ],
   "window_display": false
  }
 },
 "nbformat": 4,
 "nbformat_minor": 2
}
